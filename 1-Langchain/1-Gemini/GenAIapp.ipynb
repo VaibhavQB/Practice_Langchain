{
 "cells": [
  {
   "cell_type": "markdown",
   "id": "f9d81743",
   "metadata": {},
   "source": [
    "## Simple GenAI app\n",
    "___\n",
    "\n",
    "Work flow:\n",
    "1. Load Data -> Docs\n",
    "2. Docs -> Chunks\n",
    "3. Chunks -> Vectors\n",
    "4. Vecotrs -> Vector Embedding\n",
    "5. Vector Embedding -> Vector Store DB\n"
   ]
  },
  {
   "cell_type": "code",
   "execution_count": 2,
   "id": "dd159125",
   "metadata": {},
   "outputs": [],
   "source": [
    "import os\n",
    "from dotenv import load_dotenv\n",
    "load_dotenv()\n",
    "\n",
    "os.environ[\"GOOGLE_API_KEY\"] = os.getenv(\"GOOGLE_API_KEY\")\n",
    "os.environ[\"LANGCHAIN_API_KEY\"] = os.getenv(\"LANGCHAIN_API_KEY\")\n",
    "os.environ[\"LANGCHAIN_PROJECT\"] = os.getenv(\"LANGCHAIN_PROJECT\")\n",
    "os.environ[\"LANGCHAIN_TRACKING_V2\"] = \"true\""
   ]
  },
  {
   "cell_type": "markdown",
   "id": "cd3bb0ad",
   "metadata": {},
   "source": [
    "### Data Ingestion\n",
    "\n",
    "- From the website we need to scrape the data"
   ]
  },
  {
   "cell_type": "code",
   "execution_count": 3,
   "id": "5da067ed",
   "metadata": {},
   "outputs": [
    {
     "name": "stderr",
     "output_type": "stream",
     "text": [
      "USER_AGENT environment variable not set, consider setting it to identify your requests.\n"
     ]
    },
    {
     "data": {
      "text/plain": [
       "<langchain_community.document_loaders.web_base.WebBaseLoader at 0x23969a25310>"
      ]
     },
     "execution_count": 3,
     "metadata": {},
     "output_type": "execute_result"
    }
   ],
   "source": [
    "from langchain_community.document_loaders import WebBaseLoader\n",
    "loader = WebBaseLoader(\"https://www.geeksforgeeks.org/python/python-data-types/\")\n",
    "loader"
   ]
  },
  {
   "cell_type": "code",
   "execution_count": 4,
   "id": "857682b5",
   "metadata": {},
   "outputs": [
    {
     "data": {
      "text/plain": [
       "[Document(metadata={'source': 'https://www.geeksforgeeks.org/python/python-data-types/', 'title': 'Python Data Types - GeeksforGeeks', 'description': 'Your All-in-One Learning Portal: GeeksforGeeks is a comprehensive educational platform that empowers learners across domains-spanning computer science and programming, school education, upskilling, commerce, software tools, competitive exams, and more.', 'language': 'en-US'}, page_content='\\n\\n\\n\\n\\n\\n\\n\\n\\n\\n\\n\\n\\n\\n\\n\\n\\n\\n\\n\\n\\n\\n\\n\\n\\n\\n\\n\\n\\n\\n\\n\\n\\n\\n\\n\\n\\n\\n\\n\\n\\n\\n\\n\\n\\n\\n\\n\\n\\nPython Data Types - GeeksforGeeks\\n\\n\\n\\n\\n\\n\\n\\n\\n\\n\\n\\n\\n\\n\\n\\n\\n\\n\\n\\n\\n\\n\\n\\n\\n\\n\\n\\n\\n\\n\\n\\n\\n\\n\\n\\n\\n\\n\\n\\nSkip to content\\n\\n\\n\\n\\n\\n\\n\\n\\n\\nCoursesDSA to DevelopmentGATE 2026 PrepGet 3 IBM CertificationsFor Working ProfessionalsInterview 101: DSA & System DesignData Science Training ProgramJAVA Backend Development (Live)Data Analytics TrainingDevOps Engineering (LIVE)Data Structures & Algorithms in PythonFor StudentsPlacement Preparation with DSAData Science (Live)Data Structure & Algorithm-Self Paced (C++/JAVA)Master Competitive ProgrammingFull Stack Development with React & Node JS (Live)Full Stack DevelopmentData Science & ML ProgramAll CoursesTutorialsPythonJavaData Structures & AlgorithmsML & Data ScienceInterview CornerProgramming LanguagesWeb DevelopmentGATECS SubjectsDevOps And LinuxSchool LearningSoftware and ToolsPracticePractice Coding ProblemsGfG 160: Free DSA PracticeProblem of the DayETS TOEFL: Scholarship ContestJobsBecome a MentorApply Now!Post JobsJob-A-Thon: Hiring Challenge\\n\\n\\n\\n\\n\\n \\n\\n\\n\\n\\n\\n\\n\\n\\n\\n\\n\\n\\n\\n\\n\\n\\n\\n\\n\\n\\n\\n\\n\\n\\n\\n\\n\\n\\nNotifications\\n\\nMark all as read\\n\\n\\n\\n\\n\\nAll\\n\\n\\n\\n\\n\\n \\n\\nView All\\n\\n\\n\\n\\n\\n\\n\\n\\n\\nNotifications\\n\\n\\n\\nMark all as read\\n\\n\\n\\n\\n\\n\\nAll\\n\\n\\nUnread\\n\\n\\nRead\\n\\n\\n\\n\\n\\r\\n                                        You\\'re all caught up!!\\r\\n                                    \\n\\n\\n\\n\\n\\n\\n\\n\\n\\n\\n\\n\\n\\n\\n\\n\\n\\n\\n\\n\\n\\n\\n\\n\\n\\n\\n\\n\\n\\n\\n\\n\\n\\n\\nPython CoursePython TutorialInterview QuestionsPython QuizPython GlossaryPython ProjectsPractice PythonData Science With PythonPython Web DevDSA with PythonPython OOPs \\n\\n\\n\\n\\n\\n\\n\\n\\n\\n\\n\\n\\n\\n\\n\\n\\n\\n\\n\\nSign In\\n\\n\\n▲\\n\\n\\n\\n\\n\\n\\n\\n\\n\\n\\n\\n\\nOpen In App\\n\\n\\n\\n\\n\\n\\n\\n\\n\\n\\n\\n\\nExplore GfG CoursesShare Your ExperiencesPython Tutorial - Learn Python Programming LanguagePython FundamentalsPython IntroductionInput and Output in PythonPython VariablesPython OperatorsPython KeywordsPython Data TypesConditional Statements in PythonLoops in Python - For, While and Nested LoopsPython FunctionsRecursion in PythonPython Lambda FunctionsPython Data StructuresPython StringPython ListsPython TuplesDictionaries in PythonPython SetsPython ArraysList Comprehension in PythonAdvanced PythonPython OOPs ConceptsPython Exception HandlingFile Handling in PythonPython Database TutorialPython MongoDB TutorialPython MySQLPython PackagesPython ModulesPython DSA LibrariesList of Python GUI Library and PackagesData Science with PythonNumPy Tutorial - Python LibraryPandas TutorialMatplotlib TutorialPython Seaborn TutorialStatsModel Library- TutorialLearning Model Building in Scikit-learnTensorFlow TutorialPyTorch TutorialWeb Development with PythonFlask TutorialDjango Tutorial | Learn Django FrameworkDjango ORM - Inserting, Updating & Deleting DataTemplating With Jinja2 in FlaskDjango TemplatesPython | Build a REST API using FlaskHow to Create a basic API using Django Rest Framework ?Python PracticePython QuizPython Coding Practice ProblemsPython Interview Questions and AnswersDSA to Development Course \\n\\n\\n\\n\\n\\n\\n\\n\\n\\n\\n\\n\\n\\n\\n\\n\\nPython Data Types\\n\\n\\n\\nLast Updated : \\n17 May, 2025\\n\\n\\n\\n\\n\\n\\n\\nSummarize\\n\\n\\n\\n\\n\\n\\nComments\\n\\n\\n\\n\\n\\n\\n\\nImprove\\n\\n\\n\\n\\n\\n\\n\\n\\n\\n\\n\\n\\n\\n\\n\\n\\n\\n\\n\\n\\n\\n\\n\\n\\n\\n\\nSuggest changes\\n\\n\\n\\n\\n\\n\\n\\n\\nShare\\n\\n\\n \\n\\n\\nLike Article\\n\\n\\n\\nLike\\n\\n\\n\\n\\n\\n\\n\\n\\n\\n\\nReport\\n\\n\\n\\n\\n\\n\\n\\n\\n\\nPython Data types are the classification or categorization of data items. It represents the kind of value that tells what operations can be performed on a particular data. Since everything is an object in Python programming, Python data types are classes and variables are instances (objects) of these classes. The following are the standard or built-in data types in Python:  Numeric  - int, float, complex Sequence Type - string, list, tupleMapping Type - dict Boolean - bool Set Type - set, frozenset Binary Types - bytes, bytearray, memoryview DataTypesThis code assigns variable  \\'x\\'  different values of few Python data types - int, float, list, tuple and string. Each assignment replaces the previous value, making  \\'x\\'  take on the data type and value of the most recent assignment. \\nPython\\n\\n#  int, float, string, list and set\\nx = 50\\nx = 60.5\\nx = \"Hello World\"\\nx = [\"geeks\", \"for\", \"geeks\"]\\nx = (\"geeks\", \"for\", \"geeks\")\\n\\n1. Numeric Data Types in Python The numeric data type in Python represents the data that has a numeric value. A numeric value can be an integer, a floating number, or even a complex number. These values are defined as  Python int, Python float and Python complex classes in Python. Integers  - This value is represented by int class. It contains positive or negative whole numbers (without fractions or decimals). In Python, there is no limit to how long an integer value can be. Float - This value is represented by the float class. It is a real number with a floating-point representation. It is specified by a decimal point. Optionally, the character e or E followed by a positive or negative integer may be appended to specify scientific notation. Complex Numbers - A complex number is represented by a complex class. It is specified as  (real part) + (imaginary part)j  . For example - 2+3j \\nPython\\n\\na = 5\\nprint(type(a))\\n\\nb = 5.0\\nprint(type(b))\\n\\nc = 2 + 4j\\nprint(type(c))\\n\\nOutput<class \\'int\\'>\\n<class \\'float\\'>\\n<class \\'complex\\'>\\n2. Sequence Data Types in Python The sequence Data Type in Python is the ordered collection of similar or different Python data types. Sequences allow storing of multiple values in an organized and efficient fashion. There are several sequence data types of Python: Python String Python List Python Tuple String Data Type Python Strings are arrays of bytes representing Unicode characters. In Python, there is no character data type Python, a character is a string of length one. It is represented by str class. Strings in Python can be created using single quotes, double quotes or even triple quotes. We can access individual characters of a String using index.\\nPython\\n\\ns = \\'Welcome to the Geeks World\\'\\nprint(s)\\n\\n# check data type \\nprint(type(s))\\n\\n# access string with index\\nprint(s[1])\\nprint(s[2])\\nprint(s[-1])\\n\\nOutputWelcome to the Geeks World\\n<class \\'str\\'>\\ne\\nl\\nd\\nList Data Type Lists  are just like arrays, declared in other languages which is an ordered collection of data. It is very flexible as the items in a list do not need to be of the same type. Creating a List\\xa0in Python Lists in Python can be created by just placing the sequence inside the square brackets[]. \\nPython\\n\\n# Empty list\\na = []\\n\\n# list with int values\\na = [1, 2, 3]\\nprint(a)\\n\\n# list with mixed int and string\\nb = [\"Geeks\", \"For\", \"Geeks\", 4, 5]\\nprint(b)\\n\\nOutput[1, 2, 3]\\n[\\'Geeks\\', \\'For\\', \\'Geeks\\', 4, 5]\\nAccess List Items In order to access the list items refer to the index number. In Python, negative sequence indexes represent positions from the end of the array. Instead of having to compute the offset as in List[len(List)-3], it is enough to just write List[-3]. Negative indexing means beginning from the end, -1 refers to the last item, -2 refers to the second-last item, etc. \\nPython\\n\\na = [\"Geeks\", \"For\", \"Geeks\"]\\nprint(\"Accessing element from the list\")\\nprint(a[0])\\nprint(a[2])\\n\\nprint(\"Accessing element using negative indexing\")\\nprint(a[-1])\\nprint(a[-3])\\n\\nOutputAccessing element from the list\\nGeeks\\nGeeks\\nAccessing element using negative indexing\\nGeeks\\nGeeks\\nTuple Data Type Just like a list, a tuple is also an ordered collection of Python objects. The only difference between a tuple and a list is that tuples are immutable. Tuples cannot be modified after it is created.Creating a Tuple in Python In Python Data Types, tuples are created by placing a sequence of values separated by a ‘comma’ with or without the use of parentheses for grouping the data sequence. Tuples can contain any number of elements and of any datatype (like strings, integers, lists, etc.).  Note:  Tuples can also be created with a single element, but it is a bit tricky. Having one element in the parentheses is not sufficient, there must be a trailing ‘comma’ to make it a tuple. \\nPython\\n\\n# initiate empty tuple\\ntup1 = ()\\n\\ntup2 = (\\'Geeks\\', \\'For\\')\\nprint(\"\\\\nTuple with the use of String: \", tup2)\\n\\nOutputTuple with the use of String:  (\\'Geeks\\', \\'For\\')\\nNote  - The creation of a Python tuple without the use of parentheses is known as Tuple Packing. Access Tuple Items In order to access the tuple items refer to the index number. Use the index operator [ ] to access an item in a tuple. \\nPython\\n\\ntup1 = tuple([1, 2, 3, 4, 5])\\n\\n# access tuple items\\nprint(tup1[0])\\nprint(tup1[-1])\\nprint(tup1[-3])\\n\\nOutput1\\n5\\n3\\n3. Boolean Data Type in PythonPython Data type with one of the two built-in values, True or False. Boolean objects that are equal to True are truthy (true), and those equal to False are falsy (false). However non-Boolean objects can be evaluated in a Boolean context as well and determined to be true or false. It is denoted by the class bool. Example:  The first two lines will print the type of the boolean values True and False, which is  <class \\'bool\\'>. The third line will cause an error, because\\xa0true\\xa0is not a valid keyword in Python. Python is case-sensitive, which means it distinguishes between uppercase and lowercase letters. \\nPython\\n\\nprint(type(True))\\nprint(type(False))\\nprint(type(true))\\n\\n Output: <class \\'bool\\'><class \\'bool\\'>Traceback (most recent call last):  File \"/home/7e8862763fb66153d70824099d4f5fb7.py\", line 8, in     print(type(true))NameError: name \\'true\\' is not defined4. Set Data Type in Python In Python Data Types, Set is an unordered collection of data types that is iterable, mutable, and has no duplicate elements. The order of elements in a set is undefined though it may consist of various elements. Create a Set in Python Sets can be created by using the built-in set() function with an iterable object or a sequence by placing the sequence inside curly braces, separated by a  ‘comma’. The type of elements in a set need not be the same, various mixed-up data type values can also be passed to the set.  Example:  The code is an example of how to create sets using different types of values, such as  strings  ,  lists  , and mixed values \\nPython\\n\\n# initializing empty set\\ns1 = set()\\n\\ns1 = set(\"GeeksForGeeks\")\\nprint(\"Set with the use of String: \", s1)\\n\\ns2 = set([\"Geeks\", \"For\", \"Geeks\"])\\nprint(\"Set with the use of List: \", s2)\\n\\nOutputSet with the use of String:  {\\'s\\', \\'o\\', \\'F\\', \\'G\\', \\'e\\', \\'k\\', \\'r\\'}\\nSet with the use of List:  {\\'Geeks\\', \\'For\\'}\\nAccess Set Items Set items cannot be accessed by referring to an index, since sets are unordered the items have no index. But we can loop through the set items using a for loop, or ask if a specified value is present in a set, by using the in the keyword. \\nPython\\n\\nset1 = set([\"Geeks\", \"For\", \"Geeks\"])\\nprint(set1)\\n\\n# loop through set\\nfor i in set1:\\n    print(i, end=\" \")\\n    \\n# check if item exist in set    \\nprint(\"Geeks\" in set1)\\n\\nOutput{\\'Geeks\\', \\'For\\'}\\nGeeks For True\\n5. Dictionary Data Type A dictionary in Python is a collection of data values, used to store data values like a map, unlike other Python Data Types that hold only a single value as an element, a Dictionary holds a key: value pair. Key-value is provided in the dictionary to make it more optimized. Each key-value pair in a Dictionary is separated by a colon : , whereas each key is separated by a ‘comma’. Create a Dictionary in Python Values in a dictionary can be of any datatype and can be duplicated, whereas keys can’t be repeated and must be immutable. The dictionary can also be created by the built-in function dict().  Note  - Dictionary keys are case sensitive, the same name but different cases of Key will be treated distinctly. \\nPython\\n\\n# initialize empty dictionary\\nd = {}\\n\\n\\nd = {1: \\'Geeks\\', 2: \\'For\\', 3: \\'Geeks\\'}\\nprint(d)\\n\\n# creating dictionary using dict() constructor\\nd1 = dict({1: \\'Geeks\\', 2: \\'For\\', 3: \\'Geeks\\'})\\nprint(d1)\\n\\nOutput{1: \\'Geeks\\', 2: \\'For\\', 3: \\'Geeks\\'}\\n{1: \\'Geeks\\', 2: \\'For\\', 3: \\'Geeks\\'}\\nAccessing Key-value in Dictionary In order to access the items of a dictionary refer to its key name. Key can be used inside square brackets. Using get() method  we can access the dictionary elements.\\nPython\\n\\nd = {1: \\'Geeks\\', \\'name\\': \\'For\\', 3: \\'Geeks\\'}\\n\\n# Accessing an element using key\\nprint(d[\\'name\\'])\\n\\n# Accessing a element using get\\nprint(d.get(3))\\n\\nOutputFor\\nGeeks\\n Python Data Type Exercise Questions  Below are two exercise questions on Python Data Types. We have covered list operation and tuple operation in these exercise questions. For more exercises on Python data types visit the page mentioned below.  Q1. Code to implement basic list operations \\nPython\\n\\nfruits = [\"apple\", \"banana\", \"orange\"]\\nprint(fruits)\\nfruits.append(\"grape\")\\nprint(fruits)\\nfruits.remove(\"orange\")\\nprint(fruits)\\n\\nOutput[\\'apple\\', \\'banana\\', \\'orange\\']\\n[\\'apple\\', \\'banana\\', \\'orange\\', \\'grape\\']\\n[\\'apple\\', \\'banana\\', \\'grape\\']\\n Q2.  Code to implement basic tuple operation \\nPython\\n\\ncoordinates = (3, 5)\\nprint(coordinates)\\nprint(\"X-coordinate:\", coordinates[0])\\nprint(\"Y-coordinate:\", coordinates[1])\\n\\nOutput(3, 5)\\nX-coordinate: 3\\nY-coordinate: 5\\nQuiz: Python Data TypeRelated Posts:Python int() Functionfloat() in PythonPython complex() FunctionPython NumbersPython BooleanPython StringPython ListPython TuplePython SetsDictionaries in PythonConvert integer to string in PythonConvert String to Int in PythonConvert float to exponentialConvert int to exponentialPrimitive Data Types vs Non Primitive Data Types in PythonRecommended Problems:Input In PythonFind indexDecimal to BinaryType ConversionTypeCast And Double ItSolving queriesExplore more Exercises:  Python Data Type Exercise \\n\\n\\n\\n\\n\\n\\n\\n\\n\\n\\r\\n        Comment\\r\\n    More infoCampus Training Program \\n\\nNext Article\\n\\n\\n\\n\\nConditional Statements in Python\\n\\n\\n\\n\\n\\n\\n\\n\\n\\nN\\n\\n\\n\\n\\n \\n\\nnikhilaggarwal3 \\n\\n\\n\\n\\n\\n Follow \\n\\n\\n\\n\\n\\n\\n\\n\\n\\n\\n\\nImprove\\n\\n\\n\\n\\n\\n\\nArticle Tags : \\n\\n\\nPython\\n\\n\\nPython-datatype\\n \\n\\n\\nPractice Tags : \\n\\npython \\n\\n\\n\\n\\n\\n\\n\\n\\nLike\\n\\n\\n\\n\\n\\n\\n\\n\\n\\n\\n\\n\\n\\n\\n\\n\\n\\n\\n\\n\\n\\n \\n\\n\\n\\n\\n\\n\\n\\n\\n\\n\\n\\n\\n\\n\\n\\n\\n\\n\\n\\n\\n\\n\\n\\n\\n\\n\\n\\n\\n\\n\\n\\n\\n\\n\\n\\n\\n\\n\\n\\n\\n\\n\\n\\n\\n643k+ interested Geeks \\n\\n\\n\\nDSA to Development: A Complete Guide \\n\\n\\n\\n\\nExplore\\n\\n\\n\\n\\n\\n\\n\\n\\n\\n\\n\\n\\n\\n\\n\\n\\n475k+ interested Geeks \\n\\n\\n\\nComplete Machine Learning & Data Science Program \\n\\n\\n\\n\\nExplore\\n\\n\\n\\n\\n\\n\\n \\n\\n\\n\\n\\n\\n\\n\\n\\n\\n\\n\\n\\n\\n\\n\\n\\n\\n\\n\\n\\n\\n\\n\\n\\n\\n\\n\\n\\n\\n\\n\\n\\n\\n\\n\\n\\n\\n\\n\\n\\n\\n\\n\\n\\n\\n\\n\\n\\n\\n\\n\\n\\n\\n\\n\\n\\n\\n\\n\\n\\nCorporate & Communications Address:\\n\\r\\n                      A-143, 7th Floor, Sovereign Corporate Tower, Sector- 136, Noida, Uttar Pradesh (201305)                    \\n\\n\\n\\n\\n\\nRegistered Address:\\r\\n                        K 061, Tower K, Gulshan Vivante Apartment, Sector 137, Noida, Gautam Buddh Nagar, Uttar Pradesh, 201305                      \\n\\n\\n\\n\\n\\n\\n\\n\\n\\n\\n\\n\\n\\n\\n\\n\\n\\n\\n\\n\\n\\n\\n\\n\\n\\nAdvertise with us\\n\\n\\n\\nCompanyAbout UsLegalPrivacy PolicyCareersIn MediaContact UsCorporate SolutionCampus Training ProgramExploreJob-A-ThonOffline Classroom ProgramDSA in JAVA/C++Master System DesignMaster CPVideosTutorialsPythonJavaC++PHPGoLangSQLR LanguageAndroidDSAData StructuresAlgorithmsDSA for BeginnersBasic DSA ProblemsDSA RoadmapDSA Interview QuestionsCompetitive ProgrammingData Science & MLData Science With PythonMachine LearningML MathsData VisualisationPandasNumPyNLPDeep LearningWeb TechnologiesHTMLCSSJavaScriptTypeScriptReactJSNextJSNodeJsBootstrapTailwind CSSPython TutorialPython ExamplesDjango TutorialPython ProjectsPython TkinterWeb ScrapingOpenCV TutorialPython Interview QuestionComputer ScienceGATE CS NotesOperating SystemsComputer NetworkDatabase Management SystemSoftware EngineeringDigital Logic DesignEngineering MathsDevOpsGitAWSDockerKubernetesAzureGCPDevOps RoadmapSystem DesignHigh Level DesignLow Level DesignUML DiagramsInterview GuideDesign PatternsOOADSystem Design BootcampInterview QuestionsSchool SubjectsMathematicsPhysicsChemistryBiologySocial ScienceEnglish GrammarDatabasesSQLMYSQLPostgreSQLPL/SQLMongoDBPreparation CornerCompany-Wise Recruitment ProcessAptitude PreparationPuzzlesCompany-Wise PreparationMore TutorialsSoftware DevelopmentSoftware TestingProduct ManagementProject ManagementLinuxExcelAll Cheat SheetsCoursesIBM Certification CoursesDSA and PlacementsWeb DevelopmentData ScienceProgramming LanguagesDevOps & CloudProgramming LanguagesC Programming with Data StructuresC++ Programming CourseJava Programming CoursePython Full CourseClouds/DevopsDevOps EngineeringAWS Solutions Architect CertificationSalesforce Certified Administrator CourseGATE 2026GATE CS Rank BoosterGATE DA Rank BoosterGATE CS & IT Course - 2026GATE DA Course 2026GATE Rank Predictor \\n\\n\\n\\n\\n\\n\\n@GeeksforGeeks, Sanchhaya Education Private Limited, All rights reserved\\n\\n\\n\\n\\n\\n\\n\\n\\n\\n\\r\\n        We use cookies to ensure you have the best browsing experience on our website. By using our site, you\\r\\n        acknowledge that you have read and understood our\\r\\n        Cookie Policy &\\r\\n        Privacy Policy\\n\\n\\r\\n        Got It !\\r\\n    \\n\\n\\n\\n\\n\\n\\n\\n\\n\\n\\n\\n\\n\\n\\nImprovement\\n\\n\\n\\n\\n\\n\\n\\nSuggest changes\\n\\n\\n\\n\\n\\nSuggest Changes\\nHelp us improve. Share your suggestions to enhance the article. Contribute your expertise and make a difference in the GeeksforGeeks portal.\\n\\n\\n\\n\\n\\n\\n\\nCreate Improvement\\nEnhance the article with your expertise. Contribute to the GeeksforGeeks community and help create better learning resources for all.\\n\\n\\n\\n\\n\\n\\n\\n\\n\\n\\n\\n\\n\\n\\n\\nSuggest Changes\\n\\n\\n\\n\\n\\n\\nmin 4 words, max Words Limit:1000\\n\\n\\n\\n\\nThank You!\\nYour suggestions are valuable to us.\\n\\n\\n\\n\\n\\n\\n\\n\\n\\n\\n\\n\\n\\n\\n\\n\\n\\n\\n\\n\\n\\n\\n\\n\\n\\n\\n\\n\\n\\n\\nWhat kind of Experience do you want to share?\\n\\n\\n\\n\\n\\n\\n\\n\\n\\nInterview Experiences\\n\\n\\n\\n\\n\\n\\n\\nAdmission Experiences\\n\\n\\n\\n\\n\\n\\n\\nCareer Journeys\\n\\n\\n\\n\\n\\n\\n\\nWork Experiences\\n\\n\\n\\n\\n\\n\\n\\nCampus Experiences\\n\\n\\n\\n\\n\\n\\n\\nCompetitive Exam Experiences\\n\\n\\n\\n\\n\\n\\n\\n\\n\\n\\n\\n\\n\\n\\n\\n\\n\\n\\n')]"
      ]
     },
     "execution_count": 4,
     "metadata": {},
     "output_type": "execute_result"
    }
   ],
   "source": [
    "docs = loader.load()\n",
    "docs"
   ]
  },
  {
   "cell_type": "code",
   "execution_count": 5,
   "id": "9ad46b66",
   "metadata": {},
   "outputs": [],
   "source": [
    "from langchain_text_splitters import RecursiveCharacterTextSplitter\n",
    "\n",
    "text_spliter = RecursiveCharacterTextSplitter(chunk_size = 1000, chunk_overlap = 100)\n",
    "documents = text_spliter.split_documents(docs)"
   ]
  },
  {
   "cell_type": "code",
   "execution_count": 6,
   "id": "6f2c3308",
   "metadata": {},
   "outputs": [
    {
     "data": {
      "text/plain": [
       "25"
      ]
     },
     "execution_count": 6,
     "metadata": {},
     "output_type": "execute_result"
    }
   ],
   "source": [
    "len(documents)"
   ]
  },
  {
   "cell_type": "code",
   "execution_count": 7,
   "id": "15a80e12",
   "metadata": {},
   "outputs": [],
   "source": [
    "from langchain_google_genai import GoogleGenerativeAIEmbeddings\n",
    "\n",
    "embedding_model = GoogleGenerativeAIEmbeddings(model=\"models/embedding-001\")"
   ]
  },
  {
   "cell_type": "code",
   "execution_count": 8,
   "id": "b3e84966",
   "metadata": {},
   "outputs": [],
   "source": [
    "from langchain_community.vectorstores import FAISS\n",
    "vectore_store_db = FAISS.from_documents(documents, embedding_model)"
   ]
  },
  {
   "cell_type": "code",
   "execution_count": 9,
   "id": "14275645",
   "metadata": {},
   "outputs": [
    {
     "data": {
      "text/plain": [
       "<langchain_community.vectorstores.faiss.FAISS at 0x2396c133560>"
      ]
     },
     "execution_count": 9,
     "metadata": {},
     "output_type": "execute_result"
    }
   ],
   "source": [
    "vectore_store_db"
   ]
  },
  {
   "cell_type": "markdown",
   "id": "6792addb",
   "metadata": {},
   "source": [
    "#### Query from a vector store DB"
   ]
  },
  {
   "cell_type": "code",
   "execution_count": 10,
   "id": "2f0f8fba",
   "metadata": {},
   "outputs": [
    {
     "data": {
      "text/plain": [
       "[Document(id='8d5681c9-b70a-47b0-8bc6-7bc38b15dd66', metadata={'source': 'https://www.geeksforgeeks.org/python/python-data-types/', 'title': 'Python Data Types - GeeksforGeeks', 'description': 'Your All-in-One Learning Portal: GeeksforGeeks is a comprehensive educational platform that empowers learners across domains-spanning computer science and programming, school education, upskilling, commerce, software tools, competitive exams, and more.', 'language': 'en-US'}, page_content='Python Data Types\\n\\n\\n\\nLast Updated : \\n17 May, 2025\\n\\n\\n\\n\\n\\n\\n\\nSummarize\\n\\n\\n\\n\\n\\n\\nComments\\n\\n\\n\\n\\n\\n\\n\\nImprove\\n\\n\\n\\n\\n\\n\\n\\n\\n\\n\\n\\n\\n\\n\\n\\n\\n\\n\\n\\n\\n\\n\\n\\n\\n\\n\\nSuggest changes\\n\\n\\n\\n\\n\\n\\n\\n\\nShare\\n\\n\\n \\n\\n\\nLike Article\\n\\n\\n\\nLike\\n\\n\\n\\n\\n\\n\\n\\n\\n\\n\\nReport'),\n",
       " Document(id='1590016a-0ab3-4e9f-8258-81139ec77322', metadata={'source': 'https://www.geeksforgeeks.org/python/python-data-types/', 'title': 'Python Data Types - GeeksforGeeks', 'description': 'Your All-in-One Learning Portal: GeeksforGeeks is a comprehensive educational platform that empowers learners across domains-spanning computer science and programming, school education, upskilling, commerce, software tools, competitive exams, and more.', 'language': 'en-US'}, page_content='Python Data Types - GeeksforGeeks\\n\\n\\n\\n\\n\\n\\n\\n\\n\\n\\n\\n\\n\\n\\n\\n\\n\\n\\n\\n\\n\\n\\n\\n\\n\\n\\n\\n\\n\\n\\n\\n\\n\\n\\n\\n\\n\\n\\n\\nSkip to content'),\n",
       " Document(id='15d5b2cc-0998-4dcf-9e98-10dd3f5d5705', metadata={'source': 'https://www.geeksforgeeks.org/python/python-data-types/', 'title': 'Python Data Types - GeeksforGeeks', 'description': 'Your All-in-One Learning Portal: GeeksforGeeks is a comprehensive educational platform that empowers learners across domains-spanning computer science and programming, school education, upskilling, commerce, software tools, competitive exams, and more.', 'language': 'en-US'}, page_content='#  int, float, string, list and set\\nx = 50\\nx = 60.5\\nx = \"Hello World\"\\nx = [\"geeks\", \"for\", \"geeks\"]\\nx = (\"geeks\", \"for\", \"geeks\")'),\n",
       " Document(id='b14a68ba-8e19-413c-b23d-84d44b51dbea', metadata={'source': 'https://www.geeksforgeeks.org/python/python-data-types/', 'title': 'Python Data Types - GeeksforGeeks', 'description': 'Your All-in-One Learning Portal: GeeksforGeeks is a comprehensive educational platform that empowers learners across domains-spanning computer science and programming, school education, upskilling, commerce, software tools, competitive exams, and more.', 'language': 'en-US'}, page_content=\"Notifications\\n\\nMark all as read\\n\\n\\n\\n\\n\\nAll\\n\\n\\n\\n\\n\\n \\n\\nView All\\n\\n\\n\\n\\n\\n\\n\\n\\n\\nNotifications\\n\\n\\n\\nMark all as read\\n\\n\\n\\n\\n\\n\\nAll\\n\\n\\nUnread\\n\\n\\nRead\\n\\n\\n\\n\\n\\r\\n                                        You're all caught up!!\\r\\n                                    \\n\\n\\n\\n\\n\\n\\n\\n\\n\\n\\n\\n\\n\\n\\n\\n\\n\\n\\n\\n\\n\\n\\n\\n\\n\\n\\n\\n\\n\\n\\n\\n\\n\\n\\nPython CoursePython TutorialInterview QuestionsPython QuizPython GlossaryPython ProjectsPractice PythonData Science With PythonPython Web DevDSA with PythonPython OOPs \\n\\n\\n\\n\\n\\n\\n\\n\\n\\n\\n\\n\\n\\n\\n\\n\\n\\n\\n\\nSign In\\n\\n\\n▲\\n\\n\\n\\n\\n\\n\\n\\n\\n\\n\\n\\n\\nOpen In App\")]"
      ]
     },
     "execution_count": 10,
     "metadata": {},
     "output_type": "execute_result"
    }
   ],
   "source": [
    "query = \"Data type\"\n",
    "response = vectore_store_db.similarity_search(query)\n",
    "response"
   ]
  },
  {
   "cell_type": "code",
   "execution_count": 11,
   "id": "e0ff1250",
   "metadata": {},
   "outputs": [
    {
     "name": "stdout",
     "output_type": "stream",
     "text": [
      "Python Data TypesLast Updated :17 May, 2025Summarize CommentsImprove Suggest changes Share Like ArticleLike Report\n",
      "\n",
      "Python Data Types - GeeksforGeeksSkip to content\n",
      "\n",
      "#int, float, string, list and set x = 50 x = 60.5 x = \"Hello World\" x = [\"geeks\", \"for\", \"geeks\"] x = (\"geeks\", \"for\", \"geeks\")\n",
      "\n",
      "Python CoursePython TutorialInterview QuestionsPython QuizPython GlossaryPython ProjectsPractice PythonData Science With PythonPython Web DevDSA with PythonPython OOPs Sign In ▲ Open In App\n",
      "\n"
     ]
    }
   ],
   "source": [
    "for i in response:\n",
    "    print(i.page_content.replace(\"\\t\", \" \").replace(\"\\n\", \" \").replace(\"  \", \"\"))\n",
    "    print()"
   ]
  },
  {
   "cell_type": "markdown",
   "id": "dbb10215",
   "metadata": {},
   "source": [
    "#### Documents Chain"
   ]
  },
  {
   "cell_type": "code",
   "execution_count": 12,
   "id": "2e360ebd",
   "metadata": {},
   "outputs": [
    {
     "name": "stdout",
     "output_type": "stream",
     "text": [
      "model='models/gemini-2.0-flash' google_api_key=SecretStr('**********') client=<google.ai.generativelanguage_v1beta.services.generative_service.client.GenerativeServiceClient object at 0x000002396C133E30> default_metadata=() model_kwargs={}\n"
     ]
    }
   ],
   "source": [
    "from langchain_google_genai import ChatGoogleGenerativeAI\n",
    "\n",
    "# 1. Initialize the LLM\n",
    "llm = ChatGoogleGenerativeAI(model=\"gemini-2.0-flash\")\n",
    "print(llm)"
   ]
  },
  {
   "cell_type": "code",
   "execution_count": 22,
   "id": "ba0bbd4d",
   "metadata": {},
   "outputs": [],
   "source": [
    "from langchain_core.prompts import ChatPromptTemplate\n",
    "from langchain.chains.combine_documents import create_stuff_documents_chain\n",
    "\n",
    "\n",
    "\n",
    "# 2. Define the prompt with BOTH context and question\n",
    "prompt = ChatPromptTemplate.from_template(\"\"\"\n",
    "You are an assistant answering questions based only on the provided context.\n",
    "\n",
    "<context>\n",
    "{context}\n",
    "</context>\n",
    "\n",
    "Question: {input}\n",
    "Answer:\n",
    "\"\"\")\n",
    "\n",
    "# 3. Create the document chain\n",
    "documents_chain = create_stuff_documents_chain(llm, prompt)"
   ]
  },
  {
   "cell_type": "code",
   "execution_count": 23,
   "id": "6f143626",
   "metadata": {},
   "outputs": [
    {
     "name": "stdout",
     "output_type": "stream",
     "text": [
      "Tiger is 2908 years old.\n"
     ]
    }
   ],
   "source": [
    "from langchain_core.documents import Document\n",
    "\n",
    "# 4. Invoke it with input\n",
    "response = documents_chain.invoke({\n",
    "    \"input\": \"How old is tiger?\",\n",
    "    \"context\": [Document(page_content=\"Hi! My name is Tiger. I am 2908 years old\")]\n",
    "})\n",
    "\n",
    "print(response)\n"
   ]
  },
  {
   "cell_type": "code",
   "execution_count": 25,
   "id": "e49a49d9",
   "metadata": {},
   "outputs": [
    {
     "name": "stdout",
     "output_type": "stream",
     "text": [
      "The tiger (Panthera tigris) is a large cat and a member of the genus Panthera native to Asia.\n"
     ]
    }
   ],
   "source": [
    "from langchain.chains.combine_documents import create_stuff_documents_chain\n",
    "from langchain_core.documents import Document\n",
    "\n",
    "documents_chain = create_stuff_documents_chain(llm, prompt)\n",
    "\n",
    "context_doc = [Document(page_content=\"\"\"The tiger (Panthera tigris) is a large cat and a member of the genus Panthera native to Asia.\n",
    "    It has a powerful, muscular body with a large head and paws, a long tail and orange fur with black, mostly vertical stripes.\n",
    "    It is traditionally classified into nine recent subspecies, though some recognise only two subspecies, mainland Asian tigers and the island tigers of the Sunda Islands.\n",
    "    Throughout the tiger's range, it inhabits mainly forests, from coniferous and temperate broadleaf and mixed forests in the Russian Far East and Northeast China to tropical and subtropical moist broadleaf forests on the Indian subcontinent and Southeast Asia.\n",
    "    The tiger is an apex predator and preys mainly on ungulates, which it takes by ambush.\n",
    "    It lives a mostly solitary life and occupies home ranges, defending these from individuals of the same sex.\n",
    "    The range of a male tiger overlaps with that of multiple females with whom he mates.\n",
    "    Females give birth to usually two or three cubs that stay with their mother for about two years.\n",
    "    When becoming independent, they leave their mother's home range and establish their own.\n",
    "    \"\"\")]\n",
    "\n",
    "\n",
    "# 4. Invoke it with input\n",
    "response = documents_chain.invoke({\n",
    "    \"input\": \"What is Tiger?\",\n",
    "    \"context\": context_doc\n",
    "})\n",
    "\n",
    "print(response)"
   ]
  },
  {
   "cell_type": "markdown",
   "id": "b83732f7",
   "metadata": {},
   "source": [
    "#### Reriver Chain"
   ]
  },
  {
   "cell_type": "code",
   "execution_count": 31,
   "id": "b6a03c66",
   "metadata": {},
   "outputs": [],
   "source": [
    "retriever = vectore_store_db.as_retriever()\n",
    "\n",
    "from langchain.chains import create_retrieval_chain\n",
    "retriever_chain = create_retrieval_chain(retriever, documents_chain)"
   ]
  },
  {
   "cell_type": "code",
   "execution_count": 32,
   "id": "bc69c26a",
   "metadata": {},
   "outputs": [
    {
     "data": {
      "text/plain": [
       "RunnableBinding(bound=RunnableAssign(mapper={\n",
       "  context: RunnableBinding(bound=RunnableLambda(lambda x: x['input'])\n",
       "           | VectorStoreRetriever(tags=['FAISS', 'GoogleGenerativeAIEmbeddings'], vectorstore=<langchain_community.vectorstores.faiss.FAISS object at 0x000002396C133560>, search_kwargs={}), kwargs={}, config={'run_name': 'retrieve_documents'}, config_factories=[])\n",
       "})\n",
       "| RunnableAssign(mapper={\n",
       "    answer: RunnableBinding(bound=RunnableBinding(bound=RunnableAssign(mapper={\n",
       "              context: RunnableLambda(format_docs)\n",
       "            }), kwargs={}, config={'run_name': 'format_inputs'}, config_factories=[])\n",
       "            | ChatPromptTemplate(input_variables=['context', 'input'], input_types={}, partial_variables={}, messages=[HumanMessagePromptTemplate(prompt=PromptTemplate(input_variables=['context', 'input'], input_types={}, partial_variables={}, template='\\nYou are an assistant answering questions based only on the provided context.\\n\\n<context>\\n{context}\\n</context>\\n\\nQuestion: {input}\\nAnswer:\\n'), additional_kwargs={})])\n",
       "            | ChatGoogleGenerativeAI(model='models/gemini-2.0-flash', google_api_key=SecretStr('**********'), client=<google.ai.generativelanguage_v1beta.services.generative_service.client.GenerativeServiceClient object at 0x000002396C133E30>, default_metadata=(), model_kwargs={})\n",
       "            | StrOutputParser(), kwargs={}, config={'run_name': 'stuff_documents_chain'}, config_factories=[])\n",
       "  }), kwargs={}, config={'run_name': 'retrieval_chain'}, config_factories=[])"
      ]
     },
     "execution_count": 32,
     "metadata": {},
     "output_type": "execute_result"
    }
   ],
   "source": [
    "retriever_chain"
   ]
  },
  {
   "cell_type": "code",
   "execution_count": 35,
   "id": "ca8127ff",
   "metadata": {},
   "outputs": [
    {
     "data": {
      "text/plain": [
       "'int, float, string, list and set'"
      ]
     },
     "execution_count": 35,
     "metadata": {},
     "output_type": "execute_result"
    }
   ],
   "source": [
    "# Get the response from the LLM\n",
    "response = retriever_chain.invoke({\"input\" : \"Data Type\"})\n",
    "response['answer']"
   ]
  },
  {
   "cell_type": "code",
   "execution_count": 36,
   "id": "3540a389",
   "metadata": {},
   "outputs": [
    {
     "data": {
      "text/plain": [
       "{'input': 'Data Type',\n",
       " 'context': [Document(id='8d5681c9-b70a-47b0-8bc6-7bc38b15dd66', metadata={'source': 'https://www.geeksforgeeks.org/python/python-data-types/', 'title': 'Python Data Types - GeeksforGeeks', 'description': 'Your All-in-One Learning Portal: GeeksforGeeks is a comprehensive educational platform that empowers learners across domains-spanning computer science and programming, school education, upskilling, commerce, software tools, competitive exams, and more.', 'language': 'en-US'}, page_content='Python Data Types\\n\\n\\n\\nLast Updated : \\n17 May, 2025\\n\\n\\n\\n\\n\\n\\n\\nSummarize\\n\\n\\n\\n\\n\\n\\nComments\\n\\n\\n\\n\\n\\n\\n\\nImprove\\n\\n\\n\\n\\n\\n\\n\\n\\n\\n\\n\\n\\n\\n\\n\\n\\n\\n\\n\\n\\n\\n\\n\\n\\n\\n\\nSuggest changes\\n\\n\\n\\n\\n\\n\\n\\n\\nShare\\n\\n\\n \\n\\n\\nLike Article\\n\\n\\n\\nLike\\n\\n\\n\\n\\n\\n\\n\\n\\n\\n\\nReport'),\n",
       "  Document(id='1590016a-0ab3-4e9f-8258-81139ec77322', metadata={'source': 'https://www.geeksforgeeks.org/python/python-data-types/', 'title': 'Python Data Types - GeeksforGeeks', 'description': 'Your All-in-One Learning Portal: GeeksforGeeks is a comprehensive educational platform that empowers learners across domains-spanning computer science and programming, school education, upskilling, commerce, software tools, competitive exams, and more.', 'language': 'en-US'}, page_content='Python Data Types - GeeksforGeeks\\n\\n\\n\\n\\n\\n\\n\\n\\n\\n\\n\\n\\n\\n\\n\\n\\n\\n\\n\\n\\n\\n\\n\\n\\n\\n\\n\\n\\n\\n\\n\\n\\n\\n\\n\\n\\n\\n\\n\\nSkip to content'),\n",
       "  Document(id='15d5b2cc-0998-4dcf-9e98-10dd3f5d5705', metadata={'source': 'https://www.geeksforgeeks.org/python/python-data-types/', 'title': 'Python Data Types - GeeksforGeeks', 'description': 'Your All-in-One Learning Portal: GeeksforGeeks is a comprehensive educational platform that empowers learners across domains-spanning computer science and programming, school education, upskilling, commerce, software tools, competitive exams, and more.', 'language': 'en-US'}, page_content='#  int, float, string, list and set\\nx = 50\\nx = 60.5\\nx = \"Hello World\"\\nx = [\"geeks\", \"for\", \"geeks\"]\\nx = (\"geeks\", \"for\", \"geeks\")'),\n",
       "  Document(id='b14a68ba-8e19-413c-b23d-84d44b51dbea', metadata={'source': 'https://www.geeksforgeeks.org/python/python-data-types/', 'title': 'Python Data Types - GeeksforGeeks', 'description': 'Your All-in-One Learning Portal: GeeksforGeeks is a comprehensive educational platform that empowers learners across domains-spanning computer science and programming, school education, upskilling, commerce, software tools, competitive exams, and more.', 'language': 'en-US'}, page_content=\"Notifications\\n\\nMark all as read\\n\\n\\n\\n\\n\\nAll\\n\\n\\n\\n\\n\\n \\n\\nView All\\n\\n\\n\\n\\n\\n\\n\\n\\n\\nNotifications\\n\\n\\n\\nMark all as read\\n\\n\\n\\n\\n\\n\\nAll\\n\\n\\nUnread\\n\\n\\nRead\\n\\n\\n\\n\\n\\r\\n                                        You're all caught up!!\\r\\n                                    \\n\\n\\n\\n\\n\\n\\n\\n\\n\\n\\n\\n\\n\\n\\n\\n\\n\\n\\n\\n\\n\\n\\n\\n\\n\\n\\n\\n\\n\\n\\n\\n\\n\\n\\nPython CoursePython TutorialInterview QuestionsPython QuizPython GlossaryPython ProjectsPractice PythonData Science With PythonPython Web DevDSA with PythonPython OOPs \\n\\n\\n\\n\\n\\n\\n\\n\\n\\n\\n\\n\\n\\n\\n\\n\\n\\n\\n\\nSign In\\n\\n\\n▲\\n\\n\\n\\n\\n\\n\\n\\n\\n\\n\\n\\n\\nOpen In App\")],\n",
       " 'answer': 'int, float, string, list and set'}"
      ]
     },
     "execution_count": 36,
     "metadata": {},
     "output_type": "execute_result"
    }
   ],
   "source": [
    "response"
   ]
  },
  {
   "cell_type": "code",
   "execution_count": null,
   "id": "5f028989",
   "metadata": {},
   "outputs": [],
   "source": []
  },
  {
   "cell_type": "code",
   "execution_count": null,
   "id": "0046da6c",
   "metadata": {},
   "outputs": [],
   "source": []
  },
  {
   "cell_type": "code",
   "execution_count": null,
   "id": "f01e6c0c",
   "metadata": {},
   "outputs": [],
   "source": []
  },
  {
   "cell_type": "code",
   "execution_count": null,
   "id": "75208e29",
   "metadata": {},
   "outputs": [],
   "source": []
  }
 ],
 "metadata": {
  "kernelspec": {
   "display_name": "lang-c",
   "language": "python",
   "name": "python3"
  },
  "language_info": {
   "codemirror_mode": {
    "name": "ipython",
    "version": 3
   },
   "file_extension": ".py",
   "mimetype": "text/x-python",
   "name": "python",
   "nbconvert_exporter": "python",
   "pygments_lexer": "ipython3",
   "version": "3.12.7"
  }
 },
 "nbformat": 4,
 "nbformat_minor": 5
}
